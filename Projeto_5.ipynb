{
  "nbformat": 4,
  "nbformat_minor": 0,
  "metadata": {
    "colab": {
      "name": "Projeto 5.ipynb",
      "provenance": [],
      "collapsed_sections": []
    },
    "kernelspec": {
      "name": "python3",
      "display_name": "Python 3"
    },
    "language_info": {
      "name": "python"
    }
  },
  "cells": [
    {
      "cell_type": "markdown",
      "source": [
        "Gabriel Schrader Vilas Boas, RA: 150981\n",
        "\n",
        "João Paulo Paixão Rocha, RA: 156408\n",
        "\n",
        "Luigi Rufca Catelli Fernandez, RA: 156700"
      ],
      "metadata": {
        "id": "fsjft_xLsWC8"
      }
    },
    {
      "cell_type": "markdown",
      "source": [
        "#Projeto 5"
      ],
      "metadata": {
        "id": "tdt6jd5GETmJ"
      }
    },
    {
      "cell_type": "markdown",
      "source": [
        "##Bibliotecas"
      ],
      "metadata": {
        "id": "sGYnhqBTRup1"
      }
    },
    {
      "cell_type": "code",
      "execution_count": null,
      "metadata": {
        "id": "opxJmxLMhieA"
      },
      "outputs": [],
      "source": [
        "import matplotlib.pyplot as plt\n",
        "import numpy as np"
      ]
    },
    {
      "cell_type": "markdown",
      "source": [
        "##Simulação 1"
      ],
      "metadata": {
        "id": "P31UG5F5EPGt"
      }
    },
    {
      "cell_type": "markdown",
      "source": [
        "###Parâmetros"
      ],
      "metadata": {
        "id": "PV81VZt2eHwT"
      }
    },
    {
      "cell_type": "code",
      "source": [
        "TMax = 100\n",
        "DT = 0.01\n",
        "tl = np.arange(DT, TMax, DT)\n",
        "\n",
        "# Populacoes\n",
        "N = 1000\n",
        "I0 = 10\n",
        "R0 = 0\n",
        "S0 = N - I0 - R0\n",
        "\n",
        "# Taxas de infeccao e recuperacao\n",
        "r = 0.001\n",
        "a = 0.1\n",
        "\n",
        "# Listas\n",
        "Sl = []\n",
        "Il = []\n",
        "Rl = []"
      ],
      "metadata": {
        "id": "yUBCnBXEEPG1"
      },
      "execution_count": null,
      "outputs": []
    },
    {
      "cell_type": "markdown",
      "source": [
        "###Códigos"
      ],
      "metadata": {
        "id": "5NaknjMGPF1k"
      }
    },
    {
      "cell_type": "code",
      "source": [
        "# Calculo\n",
        "for i in np.arange(DT, TMax, DT):\n",
        "  S50 += ((-1)* r * S0 * I0) * DT\n",
        "  I0 += (r * S0 * I0 - a * I0) * DT\n",
        "  R0 += a * I0 * DT\n",
        "  \n",
        "  Sl.append(S0)\n",
        "  Il.append(I0)\n",
        "  Rl.append(R0)"
      ],
      "metadata": {
        "id": "P25FpqbqEPG2"
      },
      "execution_count": null,
      "outputs": []
    },
    {
      "cell_type": "markdown",
      "source": [
        "###Gráficos e Análises"
      ],
      "metadata": {
        "id": "jN6JLNagPgAU"
      }
    },
    {
      "cell_type": "code",
      "source": [
        "plt.title(\"Numero de infectados\")\n",
        "plt.plot(tl, Il, label = 'infectado')\n",
        "plt.plot(tl, Rl, label = 'recuperados')\n",
        "plt.plot(tl, Sl, label = 'suscetiveis')\n",
        "plt.legend()\n",
        "print(f\"Numero Máximo de infectados: {max(Il)}\")\n",
        "print(f\"Numero total de infectados: {max(Rl)}\")\n",
        "plt.show()"
      ],
      "metadata": {
        "colab": {
          "base_uri": "https://localhost:8080/",
          "height": 316
        },
        "outputId": "bc786fc4-a82b-46b6-aea3-63d97c67f76c",
        "id": "Sjs-LOL3EPG2"
      },
      "execution_count": null,
      "outputs": [
        {
          "output_type": "stream",
          "name": "stdout",
          "text": [
            "Numero Máximo de infectados: 667.9404551254397\n",
            "Numero total de infectados: 995.8740718814505\n"
          ]
        },
        {
          "output_type": "display_data",
          "data": {
            "text/plain": [
              "<Figure size 432x288 with 1 Axes>"
            ],
            "image/png": "[encoded data removed]"
          },
          "metadata": {
            "needs_background": "light"
          }
        }
      ]
    },
    {
      "cell_type": "markdown",
      "source": [
        "Para esta primeira simulação, temos que o número de infectados cresce rápido, até um ponto em que todos os indíviduos são infectados, o que resulta em um decrescimento da curva de suscetíveis rapidamente. Devido a isso, dada a taxa de recuperação escolhida, temos que todos os indivíduos que foram infectados se recuperam, chegando, perto do momento 50, à população como um todo recuperada da doença propagada anteriormente. "
      ],
      "metadata": {
        "id": "mrKlSUG0frd5"
      }
    },
    {
      "cell_type": "markdown",
      "source": [
        "\n",
        "\n",
        "#Simulação 2\n"
      ],
      "metadata": {
        "id": "aLsfnFWZDq4p"
      }
    },
    {
      "cell_type": "markdown",
      "source": [
        "###Parâmetros"
      ],
      "metadata": {
        "id": "R4_bWeDweD8Z"
      }
    },
    {
      "cell_type": "code",
      "source": [
        "TMax = 150\n",
        "DT = 0.01\n",
        "tl = np.arange(DT, TMax, DT)\n",
        "# Populacoes\n",
        "N = 1000\n",
        "I0 = 100\n",
        "R0 = 0\n",
        "S0 = N - I0 - R0\n",
        "\n",
        "# Taxas de infeccao e recuperacao\n",
        "r = 0.0003\n",
        "a = 1/50\n",
        "\n",
        "# Listas\n",
        "Sl = []\n",
        "Il = []\n",
        "Rl = []"
      ],
      "metadata": {
        "id": "ccgD6vuXhrX8"
      },
      "execution_count": null,
      "outputs": []
    },
    {
      "cell_type": "markdown",
      "source": [
        "###Códigos"
      ],
      "metadata": {
        "id": "kpol9V4hdXAL"
      }
    },
    {
      "cell_type": "code",
      "source": [
        "# Calculo\n",
        "for i in np.arange(DT, TMax, DT):\n",
        "  S0 += ((-1)* r * S0 * I0) * DT\n",
        "  I0 += (r * S0 * I0 - a * I0) * DT\n",
        "  R0 += a * I0 * DT\n",
        "  \n",
        "  Sl.append(S0)\n",
        "  Il.append(I0)\n",
        "  Rl.append(R0)\n"
      ],
      "metadata": {
        "id": "YOPbv2OZi3-8"
      },
      "execution_count": null,
      "outputs": []
    },
    {
      "cell_type": "markdown",
      "source": [
        "###Gráficos e Análises"
      ],
      "metadata": {
        "id": "DFNRqGDFchwY"
      }
    },
    {
      "cell_type": "code",
      "source": [
        "plt.title(\"Numero de infectados\")\n",
        "plt.plot(tl, Il, label = 'infectado')\n",
        "plt.plot(tl, Rl, label = 'recuperados')\n",
        "plt.plot(tl, Sl, label = 'suscetiveis')\n",
        "plt.legend()\n",
        "print(f\"Numero Máximo de infectados: {max(Il)}\")\n",
        "print(f\"Numero total de infectados: {max(Rl)}\")\n",
        "plt.show()"
      ],
      "metadata": {
        "colab": {
          "base_uri": "https://localhost:8080/",
          "height": 316
        },
        "id": "hvo6wy04kGMH",
        "outputId": "c36ba7f7-2c85-4abb-ee4e-bcabf931d01e"
      },
      "execution_count": null,
      "outputs": [
        {
          "output_type": "stream",
          "name": "stdout",
          "text": [
            "Numero Máximo de infectados: 758.8167752877984\n",
            "Numero total de infectados: 939.5826552748376\n"
          ]
        },
        {
          "output_type": "display_data",
          "data": {
            "text/plain": [
              "<Figure size 432x288 with 1 Axes>"
            ],
            "image/png": "[encoded data removed]"
          },
          "metadata": {
            "needs_background": "light"
          }
        }
      ]
    },
    {
      "cell_type": "markdown",
      "source": [
        "Nessa simulação, temos que vários indivíduos da população inicial (1000) foram infectados no passar do tempo, resultando em uma prolongação na linha azul (infectados), que não chega a zero rapidamente. Devido aos parâmetros escolhidos, a recuperação de indivíduos é mais demorada, o que gera gráficos mais \"longos\". Como podemos ver acima, graças a tais parâmetros, temos que o laranja (recuperados) demora a alcançar seu topo, enquanto que o azul, como já comentado, demora para encontrar o zero.  "
      ],
      "metadata": {
        "id": "CoR8rwDJfOVT"
      }
    },
    {
      "cell_type": "markdown",
      "source": [
        "#Simulação 3\n"
      ],
      "metadata": {
        "id": "88aUKj9AVFp2"
      }
    },
    {
      "cell_type": "markdown",
      "source": [
        "###Parâmetros"
      ],
      "metadata": {
        "id": "iufRxlawd-rn"
      }
    },
    {
      "cell_type": "code",
      "source": [
        "TMax = 500\n",
        "DT = 0.01\n",
        "tl = np.arange(DT, TMax, DT)\n",
        "\n",
        "# Populacoes\n",
        "N = 1000\n",
        "I0 = 1\n",
        "R0 = 0\n",
        "S0 = N - I0 - R0\n",
        "\n",
        "# Taxas de infecacao e recuperacao\n",
        "r = 0.0005\n",
        "a = 1/3\n",
        "\n",
        "# Listas\n",
        "Sl = []\n",
        "Il = []\n",
        "Rl = []"
      ],
      "metadata": {
        "id": "fviyeN2vVFp3"
      },
      "execution_count": null,
      "outputs": []
    },
    {
      "cell_type": "markdown",
      "source": [
        "###Códigos"
      ],
      "metadata": {
        "id": "OykOKGb_d7li"
      }
    },
    {
      "cell_type": "code",
      "source": [
        "# Calculo\n",
        "for i in np.arange(DT, TMax, DT): \n",
        "  S0 += ((-1)* r * S0 * I0) * DT\n",
        "  I0 += (r * S0 * I0 - a * I0) * DT\n",
        "  R0 += a * I0 * DT\n",
        "  \n",
        "  Sl.append(S0)\n",
        "  Il.append(I0)\n",
        "  Rl.append(R0)\n"
      ],
      "metadata": {
        "id": "4JcbhuyWVFp4"
      },
      "execution_count": null,
      "outputs": []
    },
    {
      "cell_type": "markdown",
      "source": [
        "###Gráficos e Análises"
      ],
      "metadata": {
        "id": "HZywXHIsdC8l"
      }
    },
    {
      "cell_type": "code",
      "source": [
        "plt.title(\"Numero de infectados\")\n",
        "plt.plot(tl, Il, label = 'infectado')\n",
        "plt.plot(tl, Rl, label = 'recuperados')\n",
        "plt.plot(tl, Sl, label = 'suscetiveis')\n",
        "plt.legend()\n",
        "print(f\"Numero Máximo de infectados: {max(Il)}\")\n",
        "print(f\"Numero total de infectados: {max(Rl)}\")\n",
        "plt.show()"
      ],
      "metadata": {
        "colab": {
          "base_uri": "https://localhost:8080/",
          "height": 316
        },
        "outputId": "ca169ef8-bcd9-460c-94d8-d192c097382b",
        "id": "UOVMf8hhVFp4"
      },
      "execution_count": null,
      "outputs": [
        {
          "output_type": "stream",
          "name": "stdout",
          "text": [
            "Numero Máximo de infectados: 63.65082149113035\n",
            "Numero total de infectados: 583.6927203258304\n"
          ]
        },
        {
          "output_type": "display_data",
          "data": {
            "text/plain": [
              "<Figure size 432x288 with 1 Axes>"
            ],
            "image/png": "[encoded data removed]"
          },
          "metadata": {
            "needs_background": "light"
          }
        }
      ]
    },
    {
      "cell_type": "markdown",
      "source": [
        "Nesta simulação, como o número de infectados iniciais era de apenas 1 e a taxa de infecção era extremamente pequena, o gráfico gerado possui um pequeno aumento para o número de infectados (não ultrapassando os 100 infectados) e logo após mantendo-se estável/constante por todo o tempo restante. Note que, mesmo que a taxa de recuperação também não seja grande, ela ainda é bem maior do que a de infecção, o que resulta em uma melhora de todos os infectados rápida e não possibilitando um espalhamento da doença."
      ],
      "metadata": {
        "id": "3UlM2ECAekmJ"
      }
    }
  ]
}